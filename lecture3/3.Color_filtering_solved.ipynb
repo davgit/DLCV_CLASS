{
 "cells": [
  {
   "cell_type": "code",
   "execution_count": null,
   "metadata": {},
   "outputs": [],
   "source": [
    "#github repository sync in google colab\n",
    "import os\n",
    "try:\n",
    "  # Colab only\n",
    "  !git clone https://github.com/hukim1112/DLCV_CLASS.git\n",
    "  os.chdir('/content/DLCV_CLASS/lecture3')      \n",
    "except Exception:\n",
    "  pass"
   ]
  },
  {
   "cell_type": "code",
   "execution_count": null,
   "metadata": {},
   "outputs": [],
   "source": [
    "import numpy as np\n",
    "import cv2\n",
    "from matplotlib import pyplot as plt\n",
    "import os\n",
    "from IPython.display import clear_output\n",
    "from IPython.display import Image\n",
    "%pylab inline"
   ]
  },
  {
   "cell_type": "markdown",
   "metadata": {},
   "source": [
    "# Color Filtering"
   ]
  },
  {
   "cell_type": "code",
   "execution_count": null,
   "metadata": {},
   "outputs": [],
   "source": [
    "rose = cv2.imread('data/blue_rose.jpg')[:,:,::-1]\n",
    "rose_hsv = cv2.cvtColor(rose, cv2.COLOR_RGB2HSV) # convert the image from rgb to hsv. \n",
    "lower_bound = np.array([100,50,50]) # lower bound : h=101, s=50, v=50\n",
    "upper_bound = np.array([130,255,255]) # upper bound : h=139, s=255, v=255\n",
    "mask = cv2.inRange(rose_hsv, lower_bound, upper_bound)\n",
    "res = cv2.bitwise_and(rose,rose, mask= mask)"
   ]
  },
  {
   "cell_type": "code",
   "execution_count": null,
   "metadata": {},
   "outputs": [],
   "source": [
    "plt.figure()\n",
    "plt.subplot(121)\n",
    "plt.imshow(rose)\n",
    "plt.subplot(122)\n",
    "plt.imshow(mask, cmap='gray')\n",
    "plt.imshow(res)"
   ]
  },
  {
   "cell_type": "markdown",
   "metadata": {},
   "source": [
    "## Color Filtering practice\n",
    "\n",
    "### 2.1 Read image"
   ]
  },
  {
   "cell_type": "code",
   "execution_count": null,
   "metadata": {},
   "outputs": [],
   "source": [
    "image_name = 'rock_scissors_paper.jpg' # put the name of a image you want to process\n",
    "path = os.path.join('data/color_filter', image_name)\n",
    "img = cv2.imread(path)[:,:,::-1]\n",
    "plt.imshow(img)"
   ]
  },
  {
   "cell_type": "markdown",
   "metadata": {},
   "source": [
    "### 2.2 Convert it into hsv color space and draw color histogram"
   ]
  },
  {
   "cell_type": "markdown",
   "metadata": {},
   "source": [
    "<p align=\"center\">\n",
    "    <img src=\"https://github.com/hukim1112/DLCV_CLASS/blob/master/img/HSV_color_solid_cone.png?raw=true\" width=600></br>\n",
    "</p>"
   ]
  },
  {
   "cell_type": "code",
   "execution_count": null,
   "metadata": {},
   "outputs": [],
   "source": [
    "hsv = cv2.cvtColor(img, cv2.COLOR_RGB2HSV) # convert the image from rgb to hsv.\n",
    "print(\"shape of RGB : {} and shape of hsv : {}\".format(img.shape, hsv.shape))"
   ]
  },
  {
   "cell_type": "code",
   "execution_count": null,
   "metadata": {},
   "outputs": [],
   "source": [
    "## gray scale hist \n",
    "hist = cv2.calcHist([hsv[:,:,0]], [0], mask = None, histSize = [181], ranges = [0, 181])\n",
    "plt.plot(hist)\n",
    "plt.xlim([0, 181])"
   ]
  },
  {
   "cell_type": "markdown",
   "metadata": {},
   "source": [
    "### 2.3 Filtering out pixels on out of boundaries."
   ]
  },
  {
   "cell_type": "code",
   "execution_count": null,
   "metadata": {},
   "outputs": [],
   "source": [
    "lower_bound = np.array([15,50,50]) # lower bound : h=15, s=50, v=50\n",
    "upper_bound = np.array([23,255,255]) # upper bound : h=23, s=255, v=255\n",
    "mask = cv2.inRange(hsv, lower_bound, upper_bound)\n",
    "res = cv2.bitwise_and(img,img, mask= mask)"
   ]
  },
  {
   "cell_type": "code",
   "execution_count": null,
   "metadata": {},
   "outputs": [],
   "source": [
    "plt.figure()\n",
    "plt.subplot(131)\n",
    "plt.imshow(img)\n",
    "plt.subplot(132)\n",
    "plt.imshow(mask, cmap='gray')\n",
    "plt.subplot(133)\n",
    "plt.imshow(res, cmap='gray')\n",
    "plt.show()"
   ]
  },
  {
   "cell_type": "markdown",
   "metadata": {},
   "source": [
    "# 3. Convolutional Filtering"
   ]
  },
  {
   "cell_type": "markdown",
   "metadata": {},
   "source": [
    "### 3.1 Bluring with average filter"
   ]
  },
  {
   "cell_type": "code",
   "execution_count": null,
   "metadata": {},
   "outputs": [],
   "source": [
    "blur_mask = cv2.medianBlur(mask, 3)\n",
    "plt.imshow(blur_mask, cmap='gray')"
   ]
  },
  {
   "cell_type": "markdown",
   "metadata": {},
   "source": [
    "### Edge detection with Canny edge detecting algorithm(combination of two sobel filters)"
   ]
  },
  {
   "cell_type": "code",
   "execution_count": null,
   "metadata": {},
   "outputs": [],
   "source": [
    "edge_mask = cv2.Canny(blur_mask, 30, 30*3)\n",
    "plt.imshow(edge_mask, cmap='gray')"
   ]
  },
  {
   "cell_type": "markdown",
   "metadata": {},
   "source": [
    "### FindContours algorithm"
   ]
  },
  {
   "cell_type": "code",
   "execution_count": null,
   "metadata": {},
   "outputs": [],
   "source": [
    "contours, hierarchy = cv2.findContours(edge_mask.copy(), cv2.RETR_EXTERNAL, cv2.CHAIN_APPROX_SIMPLE)"
   ]
  },
  {
   "cell_type": "code",
   "execution_count": null,
   "metadata": {},
   "outputs": [],
   "source": [
    "plt.figure()\n",
    "plt.subplot(221)\n",
    "plt.imshow(cv2.drawContours(img.copy(), contours, 0, (0, 0, 0), 3))\n",
    "plt.subplot(222)\n",
    "plt.imshow(cv2.drawContours(img.copy(), contours, 1, (0, 0, 0), 3))\n",
    "plt.subplot(223)\n",
    "plt.imshow(cv2.drawContours(img.copy(), contours, 2, (0, 0, 0), 3))"
   ]
  },
  {
   "cell_type": "code",
   "execution_count": null,
   "metadata": {},
   "outputs": [],
   "source": []
  },
  {
   "cell_type": "code",
   "execution_count": null,
   "metadata": {},
   "outputs": [],
   "source": []
  }
 ],
 "metadata": {
  "kernelspec": {
   "display_name": "Python 3",
   "language": "python",
   "name": "python3"
  },
  "language_info": {
   "codemirror_mode": {
    "name": "ipython",
    "version": 3
   },
   "file_extension": ".py",
   "mimetype": "text/x-python",
   "name": "python",
   "nbconvert_exporter": "python",
   "pygments_lexer": "ipython3",
   "version": "3.6.7"
  }
 },
 "nbformat": 4,
 "nbformat_minor": 2
}
