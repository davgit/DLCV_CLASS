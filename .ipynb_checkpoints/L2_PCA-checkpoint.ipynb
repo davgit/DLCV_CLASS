{
 "cells": [
  {
   "cell_type": "code",
   "execution_count": null,
   "metadata": {},
   "outputs": [],
   "source": [
    "from sklearn.datasets import fetch_olivetti_faces\n",
    "from matplotlib import pyplot as plt\n",
    "import numpy as np\n",
    "from sklearn.decomposition import PCA\n",
    "%matplotlib inline\n",
    "\n",
    "\n",
    "\n",
    "oliv = fetch_olivetti_faces(data_home='data')\n",
    "print(oliv.keys())\n",
    "print(oliv.data.shape)"
   ]
  },
  {
   "cell_type": "code",
   "execution_count": null,
   "metadata": {},
   "outputs": [],
   "source": [
    "#Setup a figure 6 inches by 6 inches\n",
    "fig = plt.figure(figsize=(6,6))\n",
    "fig.subplots_adjust(left=0, right=1, bottom=0, top=1, hspace=0.05, wspace=0.05)\n",
    "\n",
    "# plot the faces, each image is 64 by 64 pixels\n",
    "for i in range(64): \n",
    "    ax = fig.add_subplot(8, 8, i+1, xticks=[], yticks=[]) \n",
    "    ax.imshow(oliv.images[i], cmap=plt.cm.bone, interpolation='nearest') \n",
    "plt.show()"
   ]
  },
  {
   "cell_type": "code",
   "execution_count": null,
   "metadata": {},
   "outputs": [],
   "source": [
    "#Let's see how much of the variance is retained if we compressed these down to a 8x8 (64) pixel images.\n",
    "\n",
    "X,y=oliv.data, oliv.target\n",
    "pca_oliv = PCA(64)\n",
    "X_proj = pca_oliv.fit_transform(X)\n",
    "print(X_proj.shape)"
   ]
  },
  {
   "cell_type": "code",
   "execution_count": null,
   "metadata": {},
   "outputs": [],
   "source": [
    "print(np.cumsum(pca_oliv.explained_variance_ratio_))"
   ]
  },
  {
   "cell_type": "code",
   "execution_count": null,
   "metadata": {},
   "outputs": [],
   "source": [
    "print(pca_oliv.components_)\n",
    "print(pca_oliv.components_.shape)"
   ]
  },
  {
   "cell_type": "code",
   "execution_count": null,
   "metadata": {},
   "outputs": [],
   "source": [
    "#This is great so far. Now we have a reduced 64 dimension dataset, generated with 64 principal components. \n",
    "#Each of these principal components can explain some variation in the original dataset. The parameter components_ of the \n",
    "#estimator object gives the components with maximum variance\n",
    "\n",
    "fig = plt.figure(figsize=(8,8))\n",
    "fig.subplots_adjust(left=0, right=1, bottom=0, top=1, hspace=0.05, wspace=0.05) \n",
    "\n",
    "for i in range(10):\n",
    "    ax = fig.add_subplot(5, 5, i+1, xticks=[], yticks=[])\n",
    "    ax.imshow(np.reshape(pca_oliv.components_[i,:], (64,64)), cmap=plt.cm.bone, interpolation='nearest')"
   ]
  },
  {
   "cell_type": "code",
   "execution_count": null,
   "metadata": {},
   "outputs": [],
   "source": [
    "#Awesome, let's now try to reconstruct the images using the new reduced dataset. In other words, we transformed the \n",
    "#64x64 pixel images into 8x8 images. Now to visualize how these images look we need to inverse transform the 8x8 images \n",
    "#back to 64x64 dimension. Note that we're not reverting back to the original data, we're simply going back to the \n",
    "#actual dimension of the original images so we can visualize them.\n",
    "\n",
    "X_inv_proj = pca_oliv.inverse_transform(X_proj)\n",
    "#reshaping as 400 images of 64x64 dimension\n",
    "X_proj_img = np.reshape(X_inv_proj,(400,64,64))\n",
    "\n",
    "#Setup a figure 8 inches by 8 inches\n",
    "fig = plt.figure(figsize=(6,6))\n",
    "fig.subplots_adjust(left=0, right=1, bottom=0, top=1, hspace=0.05, wspace=0.05)\n",
    "# plot the faces, each image is 64 by 64 dimension but 8x8 pixels\n",
    "\n",
    "for i in range(64):\n",
    "    ax = fig.add_subplot(8, 8, i+1, xticks=[], yticks=[])\n",
    "    ax.imshow(X_proj_img[i], cmap=plt.cm.bone, interpolation='nearest')"
   ]
  },
  {
   "cell_type": "code",
   "execution_count": null,
   "metadata": {},
   "outputs": [],
   "source": []
  },
  {
   "cell_type": "code",
   "execution_count": null,
   "metadata": {},
   "outputs": [],
   "source": []
  }
 ],
 "metadata": {
  "kernelspec": {
   "display_name": "p3tf",
   "language": "python",
   "name": "p3tf"
  },
  "language_info": {
   "codemirror_mode": {
    "name": "ipython",
    "version": 3
   },
   "file_extension": ".py",
   "mimetype": "text/x-python",
   "name": "python",
   "nbconvert_exporter": "python",
   "pygments_lexer": "ipython3",
   "version": "3.6.7"
  }
 },
 "nbformat": 4,
 "nbformat_minor": 2
}
